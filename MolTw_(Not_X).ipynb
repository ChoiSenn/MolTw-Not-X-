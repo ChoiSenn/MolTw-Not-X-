{
  "nbformat": 4,
  "nbformat_minor": 0,
  "metadata": {
    "colab": {
      "provenance": [],
      "authorship_tag": "ABX9TyMtq/TM8glLHnmcWFJrmUTP",
      "include_colab_link": true
    },
    "kernelspec": {
      "name": "python3",
      "display_name": "Python 3"
    },
    "language_info": {
      "name": "python"
    }
  },
  "cells": [
    {
      "cell_type": "markdown",
      "metadata": {
        "id": "view-in-github",
        "colab_type": "text"
      },
      "source": [
        "<a href=\"https://colab.research.google.com/github/ChoiSenn/MolTw-Not-X-/blob/main/MolTw_(Not_X).ipynb\" target=\"_parent\"><img src=\"https://colab.research.google.com/assets/colab-badge.svg\" alt=\"Open In Colab\"/></a>"
      ]
    },
    {
      "cell_type": "code",
      "execution_count": null,
      "metadata": {
        "id": "KeX94ggrBzqV"
      },
      "outputs": [],
      "source": [
        "from requests_oauthlib import OAuth1Session\n",
        "import os\n",
        "import json\n",
        "\n",
        "# 개구졌는데 급하게 수정한 거라 그래 봐주셈 어쨌든 나중에 수정할거니까\n",
        "consumer_key, consumer_secret, access_token, access_token_secret = \"\", \"\", \"\", \"\"\n",
        "\n",
        "# --- API 인증 및 로그인 ------------------------------------------------------------------\n",
        "\n",
        "def auth():\n",
        "  consumer_key = \"키들어갈곳\"\n",
        "  consumer_secret = \"비밀키들어갈곳\"\n",
        "\n",
        "  request_token_url = \"https://api.twitter.com/oauth/request_token?oauth_callback=oob&x_auth_access_type=write\"\n",
        "  oauth = OAuth1Session(consumer_key, client_secret=consumer_secret)\n",
        "\n",
        "  try:\n",
        "      fetch_response = oauth.fetch_request_token(request_token_url)\n",
        "  except ValueError:\n",
        "      print(\n",
        "          \"There may have been an issue with the consumer_key or consumer_secret you entered.\"\n",
        "      )\n",
        "\n",
        "  resource_owner_key = fetch_response.get(\"oauth_token\")\n",
        "  resource_owner_secret = fetch_response.get(\"oauth_token_secret\")\n",
        "  print(\"Got OAuth token: %s\" % resource_owner_key)\n",
        "\n",
        "  # Get authorization\n",
        "  base_authorization_url = \"https://api.twitter.com/oauth/authorize\"\n",
        "  authorization_url = oauth.authorization_url(base_authorization_url)\n",
        "  print(\"Please go here and authorize: %s\" % authorization_url)\n",
        "  verifier = input(\"Paste the PIN here: \")\n",
        "\n",
        "  # Get the access token\n",
        "  access_token_url = \"https://api.twitter.com/oauth/access_token\"\n",
        "  oauth = OAuth1Session(\n",
        "      consumer_key,\n",
        "      client_secret=consumer_secret,\n",
        "      resource_owner_key=resource_owner_key,\n",
        "      resource_owner_secret=resource_owner_secret,\n",
        "      verifier=verifier,\n",
        "  )\n",
        "  oauth_tokens = oauth.fetch_access_token(access_token_url)\n",
        "\n",
        "  access_token = oauth_tokens[\"oauth_token\"]\n",
        "  access_token_secret = oauth_tokens[\"oauth_token_secret\"]\n",
        "\n",
        "# --- 트윗 작성 ------------------------------------------------------------------\n",
        "\n",
        "  while(True):\n",
        "    tweet_text = input()\n",
        "    if tweet_text == \"exit\":\n",
        "      break\n",
        "\n",
        "    payload = {\"text\": tweet_text}\n",
        "\n",
        "    oauth = OAuth1Session(\n",
        "\n",
        "        consumer_key,\n",
        "        client_secret=consumer_secret,\n",
        "        resource_owner_key=access_token,\n",
        "        resource_owner_secret=access_token_secret,\n",
        "    )\n",
        "\n",
        "    # Making the request\n",
        "    response = oauth.post(\n",
        "        \"https://api.twitter.com/2/tweets\",\n",
        "        json=payload,\n",
        "    )\n",
        "\n",
        "    if response.status_code != 201:\n",
        "        raise Exception(\n",
        "            \"Request returned an error: {} {}\".format(response.status_code, response.text)\n",
        "        )\n",
        "\n",
        "    print(\"Response code: {}\".format(response.status_code))\n",
        "\n",
        "    # Saving the response as JSON\n",
        "    json_response = response.json()\n",
        "    print(json.dumps(json_response, indent=4, sort_keys=True))\n",
        "\n",
        "# --- 메인 함수 ------------------------------------------------------------------\n",
        "\n",
        "def main():\n",
        "     auth()\n",
        "\n",
        "if __name__ == \"__main__\":\n",
        "    main()"
      ]
    }
  ]
}